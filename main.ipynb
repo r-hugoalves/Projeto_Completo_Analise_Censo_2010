{
  "nbformat": 4,
  "nbformat_minor": 0,
  "metadata": {
    "colab": {
      "provenance": [],
      "authorship_tag": "ABX9TyPKaLQiOEpU5tQrXvbqKX/1",
      "include_colab_link": true
    },
    "kernelspec": {
      "name": "python3",
      "display_name": "Python 3"
    },
    "language_info": {
      "name": "python"
    }
  },
  "cells": [
    {
      "cell_type": "markdown",
      "metadata": {
        "id": "view-in-github",
        "colab_type": "text"
      },
      "source": [
        "<a href=\"https://colab.research.google.com/github/r-hugoalves/Projeto_Completo_Analise_Censo_2010/blob/master/main.ipynb\" target=\"_parent\"><img src=\"https://colab.research.google.com/assets/colab-badge.svg\" alt=\"Open In Colab\"/></a>"
      ]
    },
    {
      "cell_type": "markdown",
      "source": [
        "#Análise do Censo de 2010"
      ],
      "metadata": {
        "id": "nDOzpHiFzGqE"
      }
    },
    {
      "cell_type": "code",
      "execution_count": null,
      "metadata": {
        "id": "GcEhmDQmPcKT"
      },
      "outputs": [],
      "source": [
        "import csv\n",
        "import pandas as pd\n",
        "from bs4 import BeautifulSoup"
      ]
    },
    {
      "cell_type": "code",
      "source": [
        "#Importação do arquivo XML\n",
        "with open(file='./estados_bruto.xml', mode='r') as arquivo_xml:\n",
        "  dados_xml = arquivo_xml.read()\n",
        "\n",
        "dados_estados = BeautifulSoup(dados_xml, 'xml')\n",
        "\n",
        "#Extraindo a tag ID\n",
        "tags_id = dados_estados.find_all('ID')\n",
        "#Extraindo a tag NOME\n",
        "tags_nome = dados_estados.find_all('NOME')\n",
        "#Extraindo a tag IDCAPITAL\n",
        "tags_idcapital = dados_estados.find_all('IDCAPITAL')\n",
        "#Extraindo a tag SIGLA\n",
        "tags_sigla = dados_estados.find_all('SIGLA')\n",
        "#Extraindo a tag REGIAO\n",
        "tags_regiao = dados_estados.find_all('REGIAO')"
      ],
      "metadata": {
        "id": "Y1qEsm53Uu0G"
      },
      "execution_count": null,
      "outputs": []
    },
    {
      "cell_type": "code",
      "source": [
        "#Vamos agora tratar as listas e escrever as informações no arquivo .CSV\n",
        "\n",
        "with open(file='estados-limpo.csv', mode='w', encoding='utf8') as arquivo:\n",
        "  escritor_csv = csv.writer(arquivo, delimiter=';')\n",
        "  escritor_csv.writerow(['ID_ESTADO', 'UF', 'CAPITAL', 'SIGLA', 'REGIAO'])\n",
        "\n",
        "  for i in range(0,len(tags_id)):\n",
        "    escritor_csv.writerow([\n",
        "        tags_id[i].get_text(),\n",
        "        tags_nome[i].get_text(),\n",
        "        tags_idcapital[i].get_text(),\n",
        "        tags_sigla[i].get_text(),\n",
        "        tags_regiao[i].get_text()\n",
        "    ])"
      ],
      "metadata": {
        "id": "T3xI7TgQRTwO"
      },
      "execution_count": null,
      "outputs": []
    },
    {
      "cell_type": "code",
      "source": [
        "#Agora, vamos criar um dataframe com o arquivo CSV selecionando apenas as colunas de interesse:\n",
        "  #'UF', 'nome', 'PIB', 'Pop_est_2009', 'PIB_percapita'\n",
        "\n",
        "cidades_df = pd.read_csv('cidades-bruto.csv', sep=',')\n",
        "dados_cidades_df = cidades_df[['UF', 'nome', 'PIB', 'Pop_est_2009', 'PIB_percapita']]\n",
        "\n",
        "#Para melhor visualização, vamos alterar o nome da coluna 'nome' para 'Cidade'\n",
        "\n",
        "dados_cidades_df = dados_cidades_df.rename(columns={'nome': 'Cidade'})"
      ],
      "metadata": {
        "id": "QooUulw2RWIw"
      },
      "execution_count": null,
      "outputs": []
    },
    {
      "cell_type": "code",
      "source": [
        "#Transformando o arquivo estados-limpo.csv em um datraframe para fazer a combinação\n",
        "\n",
        "estados_df = pd.read_csv('estados-limpo.csv', sep=';')\n",
        "\n",
        "#Aqui tem um problema que pode gerar confusão na hora de combinar\n",
        "  #Os estados estão sem acentos, e no 'dados_cidades_df' eles possuem acentos. Vamos tratar isso\n",
        "  #A única exceção é Espírito Santo que está sem acento nas duas tabelas\n",
        "\n",
        "estados_df['UF'] = estados_df['UF'].apply(lambda acento: 'AMAPÁ' if acento == 'AMAPA' else acento)\n",
        "estados_df['UF'] = estados_df['UF'].apply(lambda acento: 'CEARÁ' if acento == 'CEARA' else acento)\n",
        "estados_df['UF'] = estados_df['UF'].apply(lambda acento: 'GOIÁS' if acento == 'GOIAS' else acento)\n",
        "estados_df['UF'] = estados_df['UF'].apply(lambda acento: 'MARANHÃO' if acento == 'MARANHAO' else acento)\n",
        "estados_df['UF'] = estados_df['UF'].apply(lambda acento: 'PARÁ' if acento == 'PARA' else acento)\n",
        "estados_df['UF'] = estados_df['UF'].apply(lambda acento: 'PARANÁ' if acento == 'PARANA' else acento)\n",
        "estados_df['UF'] = estados_df['UF'].apply(lambda acento: 'PARAÍBA' if acento == 'PARAIBA' else acento)\n",
        "estados_df['UF'] = estados_df['UF'].apply(lambda acento: 'PIAUÍ' if acento == 'PIAUI' else acento)\n",
        "estados_df['UF'] = estados_df['UF'].apply(lambda acento: 'RONDÔNIA' if acento == 'RONDONIA' else acento)\n",
        "estados_df['UF'] = estados_df['UF'].apply(lambda acento: 'SÃO PAULO' if acento == 'SAO PAULO' else acento)"
      ],
      "metadata": {
        "id": "IeljcM4bRZaB"
      },
      "execution_count": null,
      "outputs": []
    },
    {
      "cell_type": "code",
      "source": [
        "#Junção dos dataframes\n",
        "\n",
        "brasil_df_bruto= pd.merge(left=estados_df, right=dados_cidades_df, on='UF', how='outer')\n",
        "\n",
        "#Existe uma cidade em específico, de PIB: 86340.6015625 que tem o nome dela como NaN. Vamos tratar:\n",
        "\n",
        "brasil_df = brasil_df_bruto.fillna('')\n",
        "\n",
        "#Vamos converter o brasil_df para um arquivo csv para que possamos fazer as análises no PowerBI\n",
        "\n",
        "brasil_df.to_csv('analise_censo_2010.csv', index=False, sep=';', encoding='utf8')"
      ],
      "metadata": {
        "id": "GNU87P6-RcVu"
      },
      "execution_count": null,
      "outputs": []
    }
  ]
}